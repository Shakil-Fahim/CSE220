{
  "cells": [
    {
      "cell_type": "markdown",
      "metadata": {
        "id": "view-in-github",
        "colab_type": "text"
      },
      "source": [
        "<a href=\"https://colab.research.google.com/github/Shakil-Fahim/CSE220/blob/main/Copy_of_Lab_1_Array_and_SinglyLinkedList_%5BPython%5D.ipynb\" target=\"_parent\"><img src=\"https://colab.research.google.com/assets/colab-badge.svg\" alt=\"Open In Colab\"/></a>"
      ]
    },
    {
      "cell_type": "markdown",
      "metadata": {
        "id": "v8m-0O9Pi9ET"
      },
      "source": [
        "**You must run this cell to install dependency**"
      ]
    },
    {
      "cell_type": "code",
      "execution_count": 4,
      "metadata": {
        "id": "3vZHyMlVi0cs",
        "colab": {
          "base_uri": "https://localhost:8080/"
        },
        "outputId": "d53de2ab-ba5d-4170-899a-87158734c408"
      },
      "outputs": [
        {
          "output_type": "stream",
          "name": "stdout",
          "text": [
            "Collecting fhm-unittest\n",
            "  Downloading fhm_unittest-1.0.1-py3-none-any.whl.metadata (1.9 kB)\n",
            "Downloading fhm_unittest-1.0.1-py3-none-any.whl (2.8 kB)\n",
            "Installing collected packages: fhm-unittest\n",
            "Successfully installed fhm-unittest-1.0.1\n",
            "Collecting fuzzywuzzy\n",
            "  Downloading fuzzywuzzy-0.18.0-py2.py3-none-any.whl.metadata (4.9 kB)\n",
            "Downloading fuzzywuzzy-0.18.0-py2.py3-none-any.whl (18 kB)\n",
            "Installing collected packages: fuzzywuzzy\n",
            "Successfully installed fuzzywuzzy-0.18.0\n"
          ]
        },
        {
          "output_type": "stream",
          "name": "stderr",
          "text": [
            "/usr/local/lib/python3.11/dist-packages/fuzzywuzzy/fuzz.py:11: UserWarning: Using slow pure-python SequenceMatcher. Install python-Levenshtein to remove this warning\n",
            "  warnings.warn('Using slow pure-python SequenceMatcher. Install python-Levenshtein to remove this warning')\n"
          ]
        }
      ],
      "source": [
        "! pip3 install fhm-unittest\n",
        "! pip3 install fuzzywuzzy\n",
        "import fhm_unittest as unittest\n",
        "import numpy as np"
      ]
    },
    {
      "cell_type": "markdown",
      "source": [
        "**Instructions to Follow (Failing to follow these will result mark deductions).**\n",
        "1. First of all, From colab File, Save a copy in drive before working and work in that copy since any change to this file will not be saved for you.\n",
        "2. You can not use any built-in function except len()\n",
        "\n",
        "3. You can not use any other python collections except array (e.g: tuple, dictionaries etc.).\n",
        "\n",
        "4. We will initialize a new array using numpy library. We have to mention the fixed size during initialization. There might be 4 approaches.\n",
        "\n",
        " i. arr = np.array([None] * 10) #Initializing an array length 10 with values None.\n",
        "\n",
        " ii. arr = np.array([0] * 10) #Initializing an array length 10 with values zero.\n",
        "\n",
        " iii. arr = np.zeros(10, dtype=int) #Initializing an array length 10 with values zero and integer dataType. By default, dtype is float.\n",
        "\n",
        " iv. arr = np.array([10, 20, 30, 40]) #Initializing an array length 4 with the values."
      ],
      "metadata": {
        "id": "f21C10NO0TQd"
      }
    },
    {
      "cell_type": "markdown",
      "source": [
        "**Task 1:** Merge Sorted Array"
      ],
      "metadata": {
        "id": "goiSCUelz3kj"
      }
    },
    {
      "cell_type": "code",
      "source": [
        "def mergeSortedArray(arr1, arr2):\n",
        "  #To Do\n",
        "\n",
        "  n1 = len(arr1)\n",
        "  n2 = len(arr2)\n",
        "  result = [0] * (n1 + n2)\n",
        "  i = 0\n",
        "  j = 0\n",
        "  k = 0\n",
        "  while i < n1 and j < n2:\n",
        "        if arr1[i] <= arr2[j]:\n",
        "            result[k] = arr1[i]\n",
        "            i += 1\n",
        "        else:\n",
        "            result[k] = arr2[j]\n",
        "            j += 1\n",
        "        k += 1\n",
        "  while i < n1:\n",
        "        result[k] = arr1[i]\n",
        "        i += 1\n",
        "        k += 1\n",
        "  while j < n2:\n",
        "        result[k] = arr2[j]\n",
        "        j += 1\n",
        "        k += 1\n",
        "\n",
        "  return result\n",
        "\n",
        "a1 = np.array([1, 2, 3])\n",
        "print(f'Sorted Array 1: {a1}')\n",
        "a2 = np.array([2, 5, 6])\n",
        "print(f'Sorted Array 2: {a2}')\n",
        "returned_value = mergeSortedArray(a1, a2)\n",
        "print(f'Merged Sorted Array: {returned_value}\\n') # This should print [1, 2, 2, 3, 5, 6]\n",
        "unittest.output_test(returned_value, np.array([1, 2, 2, 3, 5, 6]))\n",
        "\n",
        "print('\\n==================================\\n')\n",
        "\n",
        "a3 = np.array([1, 3, 5, 11])\n",
        "print(f'Sorted Array 3: {a3}')\n",
        "a4 = np.array([2, 7, 8])\n",
        "print(f'Sorted Array 4: {a4}')\n",
        "returned_value = mergeSortedArray(a3, a4)\n",
        "print(f'Merged Sorted Array: {returned_value}\\n') # This should print [1, 2, 3, 5, 7, 8, 11]\n",
        "unittest.output_test(returned_value, np.array([1, 2, 3, 5, 7, 8, 11]))"
      ],
      "metadata": {
        "id": "ohvCyw0Rz3Vd",
        "colab": {
          "base_uri": "https://localhost:8080/"
        },
        "outputId": "36332c88-9f90-4bd3-d574-d37fadb5a96b"
      },
      "execution_count": 5,
      "outputs": [
        {
          "output_type": "stream",
          "name": "stdout",
          "text": [
            "Sorted Array 1: [1 2 3]\n",
            "Sorted Array 2: [2 5 6]\n",
            "Merged Sorted Array: [1, 2, 2, 3, 5, 6]\n",
            "\n",
            "Not Accepted [Your output: [1, 2, 2, 3, 5, 6]  |  Expected Output: [1 2 2 3 5 6]]\n",
            "\n",
            "==================================\n",
            "\n",
            "Sorted Array 3: [ 1  3  5 11]\n",
            "Sorted Array 4: [2 7 8]\n",
            "Merged Sorted Array: [1, 2, 3, 5, 7, 8, 11]\n",
            "\n",
            "Not Accepted [Your output: [1, 2, 3, 5, 7, 8, 11]  |  Expected Output: [ 1  2  3  5  7  8 11]]\n"
          ]
        }
      ]
    },
    {
      "cell_type": "markdown",
      "source": [
        "**Task 2:** Container with Most Water"
      ],
      "metadata": {
        "id": "LFAkNhKlzkFi"
      }
    },
    {
      "cell_type": "code",
      "source": [
        "def mostWater(arr):\n",
        "  #To Do\n",
        "  #No need to return anything just print the output inside the function\n",
        "    left = 0\n",
        "    right = len(arr) - 1\n",
        "    max_water = 0\n",
        "\n",
        "\n",
        "    while left < right:\n",
        "        current_height = min(arr[left], arr[right])\n",
        "        current_width = right - left\n",
        "        current_water = current_height * current_width\n",
        "        max_water = max(max_water, current_water)\n",
        "        if arr[left] <= arr[right]:\n",
        "            left += 1\n",
        "        else:\n",
        "            right -= 1\n",
        "\n",
        "    print(max_water)\n",
        "\n",
        "height = np.array([1,8,6,2,5,4,8,3,7])\n",
        "print(f'Given Array: {height}')\n",
        "\n",
        "print(f'\\nExpected Output: 49')\n",
        "print(f'Your Output: ',end='')\n",
        "mostWater(height)"
      ],
      "metadata": {
        "id": "qH6ZiacCzjTq",
        "colab": {
          "base_uri": "https://localhost:8080/"
        },
        "outputId": "7d5bc644-d05e-435c-b619-582655072171"
      },
      "execution_count": 6,
      "outputs": [
        {
          "output_type": "stream",
          "name": "stdout",
          "text": [
            "Given Array: [1 8 6 2 5 4 8 3 7]\n",
            "\n",
            "Expected Output: 49\n",
            "Your Output: 49\n"
          ]
        }
      ]
    },
    {
      "cell_type": "markdown",
      "metadata": {
        "id": "b7eLAb26jNlR"
      },
      "source": [
        "**You must Run this cell for your driver code to execute successfully**\\\n",
        "[DO NOT MODIFY CELL BELOW]\\\n",
        "[THERE WILL BE 50% PENALTY IF THE CELL BELOW IS MODIFIED]"
      ]
    },
    {
      "cell_type": "code",
      "execution_count": 7,
      "metadata": {
        "id": "Yvtwdm02iNbm"
      },
      "outputs": [],
      "source": [
        "#Run this cell\n",
        "class Node:\n",
        "  def __init__(self,elem,next = None):\n",
        "    self.elem,self.next = elem,next\n",
        "\n",
        "def createList(arr):\n",
        "  head = Node(arr[0])\n",
        "  tail = head\n",
        "  for i in range(1,len(arr)):\n",
        "    newNode = Node(arr[i])\n",
        "    tail.next = newNode\n",
        "    tail = newNode\n",
        "  return head\n",
        "\n",
        "def printLinkedList(head):\n",
        "  temp = head\n",
        "  while temp != None:\n",
        "    if temp.next != None:\n",
        "      print(temp.elem, end = '-->')\n",
        "    else:\n",
        "      print(temp.elem)\n",
        "    temp = temp.next\n",
        "  print()"
      ]
    },
    {
      "cell_type": "markdown",
      "source": [
        "**Instructions to Follow (Failing to follow these will result mark deductions).**\n",
        "\n",
        "1. Be careful in which question you are required to change the given Linked list and where you are required to create a new one\n",
        "2. Be careful of the first node and the last node [aka corner cases]\n",
        "3. Do not use any other data structure other than Linked List\n",
        "\n"
      ],
      "metadata": {
        "id": "lSK7wsNa0cYW"
      }
    },
    {
      "cell_type": "code",
      "source": [
        "def CountElem(head):\n",
        "  temp = head\n",
        "  c = 0\n",
        "  while temp!= None:\n",
        "    c+=1\n",
        "    temp = temp.next\n",
        "  return c"
      ],
      "metadata": {
        "id": "b8gO75vNaYJK"
      },
      "execution_count": 12,
      "outputs": []
    },
    {
      "cell_type": "markdown",
      "metadata": {
        "id": "YcFhPJxPjcfl"
      },
      "source": [
        "**Task 3:** Building Blocks"
      ]
    },
    {
      "cell_type": "code",
      "execution_count": 13,
      "metadata": {
        "id": "QU2I53-4jWSo",
        "colab": {
          "base_uri": "https://localhost:8080/"
        },
        "outputId": "3f3913d3-c413-4832-b0b9-b0cad16132f5"
      },
      "outputs": [
        {
          "output_type": "stream",
          "name": "stdout",
          "text": [
            "==============Test Case 1=============\n",
            "Building 1:  Red-->Green-->Yellow-->Red-->Blue-->Green\n",
            "\n",
            "Building 2:  Red-->Green-->Yellow-->Red-->Blue-->Green\n",
            "\n",
            "Similar\n",
            "Accepted\n",
            "\n",
            "==============Test Case 2=============\n",
            "Building 1:  Red-->Green-->Yellow-->Red-->Yellow-->Green\n",
            "\n",
            "Building 2:  Red-->Green-->Yellow-->Red-->Blue-->Green\n",
            "\n",
            "Not Similar\n",
            "Accepted\n",
            "\n",
            "==============Test Case 3=============\n",
            "Building 1:  Red-->Green-->Yellow-->Red-->Blue-->Green\n",
            "\n",
            "Building 2:  Red-->Green-->Yellow-->Red-->Blue-->Green-->Blue\n",
            "\n",
            "Not Similar\n",
            "Accepted\n",
            "\n",
            "==============Test Case 4=============\n",
            "Building 1:  Red-->Green-->Yellow-->Red-->Blue-->Green-->Blue\n",
            "\n",
            "Building 2:  Red-->Green-->Yellow-->Red-->Blue-->Green\n",
            "\n",
            "Not Similar\n",
            "Accepted\n",
            "\n"
          ]
        }
      ],
      "source": [
        "def check_similar(building_1, building_2):\n",
        "  #TO DO\n",
        "  temp1 = building_1\n",
        "  temp2 = building_2\n",
        "  node_count1 = CountElem(temp1)\n",
        "  node_count2 = CountElem(temp2)\n",
        "  if node_count1 != node_count2:\n",
        "    return \"Not Similar\"\n",
        "  else:\n",
        "    c = 0\n",
        "    while temp1!= None:\n",
        "      if temp1.elem == temp2.elem:\n",
        "        c+=1\n",
        "      temp1 = temp1.next\n",
        "      temp2 = temp2.next\n",
        "  if c == node_count1:\n",
        "    return \"Similar\"\n",
        "  return \"Not Similar\"\n",
        "\n",
        "#[DO NOT MODIFY THE TESTER CODES BELOW]\n",
        "#[THERE WILL BE 50% PENALTY IF IT'S MODIFIED]\n",
        "print('==============Test Case 1=============')\n",
        "building_1 = createList(np.array(['Red', 'Green', 'Yellow', 'Red', 'Blue', 'Green']))\n",
        "building_2 = createList(np.array(['Red', 'Green', 'Yellow', 'Red', 'Blue', 'Green']))\n",
        "print('Building 1: ', end = ' ')\n",
        "printLinkedList(building_1)\n",
        "print('Building 2: ', end = ' ')\n",
        "printLinkedList(building_2)\n",
        "returned_value = check_similar(building_1, building_2)\n",
        "print(returned_value) #This should print 'Similar'\n",
        "unittest.output_test(returned_value, 'Similar')\n",
        "print()\n",
        "\n",
        "print('==============Test Case 2=============')\n",
        "building_1 = createList(np.array(['Red', 'Green', 'Yellow', 'Red', 'Yellow', 'Green']))\n",
        "building_2 = createList(np.array(['Red', 'Green', 'Yellow', 'Red', 'Blue', 'Green']))\n",
        "print('Building 1: ', end = ' ')\n",
        "printLinkedList(building_1)\n",
        "print('Building 2: ', end = ' ')\n",
        "printLinkedList(building_2)\n",
        "returned_value = check_similar(building_1, building_2)\n",
        "print(returned_value) #This should print 'Not Similar'\n",
        "unittest.output_test(returned_value, 'Not Similar')\n",
        "print()\n",
        "\n",
        "print('==============Test Case 3=============')\n",
        "building_1 = createList(np.array(['Red', 'Green', 'Yellow', 'Red', 'Blue', 'Green']))\n",
        "building_2 = createList(np.array(['Red', 'Green', 'Yellow', 'Red', 'Blue', 'Green', 'Blue']))\n",
        "print('Building 1: ', end = ' ')\n",
        "printLinkedList(building_1)\n",
        "print('Building 2: ', end = ' ')\n",
        "printLinkedList(building_2)\n",
        "returned_value = check_similar(building_1, building_2)\n",
        "print(returned_value) #This should print 'Not Similar'\n",
        "unittest.output_test(returned_value, 'Not Similar')\n",
        "print()\n",
        "\n",
        "print('==============Test Case 4=============')\n",
        "building_1 = createList(np.array(['Red', 'Green', 'Yellow', 'Red', 'Blue', 'Green', 'Blue']))\n",
        "building_2 = createList(np.array(['Red', 'Green', 'Yellow', 'Red', 'Blue', 'Green']))\n",
        "print('Building 1: ', end = ' ')\n",
        "printLinkedList(building_1)\n",
        "print('Building 2: ', end = ' ')\n",
        "printLinkedList(building_2)\n",
        "returned_value = check_similar(building_1, building_2)\n",
        "print(returned_value) #This should print 'Not Similar'\n",
        "unittest.output_test(returned_value, 'Not Similar')\n",
        "print()"
      ]
    },
    {
      "cell_type": "markdown",
      "metadata": {
        "id": "1ru-53ewkgET"
      },
      "source": [
        "**Task 4:** Assemble Conga Line"
      ]
    },
    {
      "cell_type": "code",
      "execution_count": 14,
      "metadata": {
        "id": "el2Iqez0kmfD",
        "colab": {
          "base_uri": "https://localhost:8080/"
        },
        "outputId": "6ca3b067-cc14-4d72-c4ab-f33116d91ebd"
      },
      "outputs": [
        {
          "output_type": "stream",
          "name": "stdout",
          "text": [
            "==============Test Case 1=============\n",
            "Original Conga Line:  10-->15-->34-->41-->56-->72\n",
            "\n",
            "None\n",
            "Wrong Answer [Your output: None  |  Expected Output: True]\n",
            "\n",
            "==============Test Case 2=============\n",
            "Original Conga Line:  10-->15-->44-->41-->56-->72\n",
            "\n",
            "None\n",
            "Wrong Answer [Your output: None  |  Expected Output: False]\n",
            "\n"
          ]
        }
      ],
      "source": [
        "def assemble_conga_line(conga_line):\n",
        "  #TO DO\n",
        "    if conga_line == None:\n",
        "        return True\n",
        "        update= conga_line\n",
        "        while update.next != None:\n",
        "            if update.elem >update.next.elem:\n",
        "                return False\n",
        "            update = update.next\n",
        "        return True\n",
        "\n",
        "#[DO NOT MODIFY THE TESTER CODES BELOW]\n",
        "#[THERE WILL BE 50% PENALTY IF IT'S MODIFIED]\n",
        "print('==============Test Case 1=============')\n",
        "conga_line = createList(np.array([10,15,34,41,56,72]))\n",
        "print('Original Conga Line: ', end = ' ')\n",
        "printLinkedList(conga_line)\n",
        "returned_value = assemble_conga_line(conga_line)\n",
        "print(returned_value) #This should print True\n",
        "unittest.output_test(returned_value, True)\n",
        "print()\n",
        "print('==============Test Case 2=============')\n",
        "conga_line = createList(np.array([10,15,44,41,56,72]))\n",
        "print('Original Conga Line: ', end = ' ')\n",
        "printLinkedList(conga_line)\n",
        "returned_value = assemble_conga_line(conga_line)\n",
        "print(returned_value) #This should print False\n",
        "unittest.output_test(returned_value, False)\n",
        "print()"
      ]
    },
    {
      "cell_type": "markdown",
      "metadata": {
        "id": "g8b2lKE5o4HE"
      },
      "source": [
        "**Task 5:** Sum of Nodes"
      ]
    },
    {
      "cell_type": "code",
      "execution_count": 16,
      "metadata": {
        "id": "AeUE5H0so6oP",
        "colab": {
          "base_uri": "https://localhost:8080/"
        },
        "outputId": "710cfe05-dd32-4d95-e960-581ec31d822d"
      },
      "outputs": [
        {
          "output_type": "stream",
          "name": "stdout",
          "text": [
            "==============Test Case 1=============\n",
            "Sum of Nodes: 4\n",
            "Accepted\n",
            "\n"
          ]
        }
      ],
      "source": [
        "def sum_dist(head, arr):\n",
        "    def get_node_at_distance(head, distance):\n",
        "        current = head\n",
        "        for i in range(distance):\n",
        "            if current is None:\n",
        "                return None\n",
        "            current = current.next\n",
        "        return current\n",
        "\n",
        "    sum = 0\n",
        "    for distance in arr:\n",
        "        node = get_node_at_distance(head, distance)\n",
        "        if node is not None:\n",
        "            sum += node.elem\n",
        "    return sum\n",
        "\n",
        "\n",
        "\n",
        "#[DO NOT MODIFY THE TESTER CODES BELOW]\n",
        "#[THERE WILL BE 50% PENALTY IF IT'S MODIFIED]\n",
        "print('==============Test Case 1=============')\n",
        "LL1 = createList(np.array([10,16,-5,9,3,4]))\n",
        "dist = np.array([2,0,5,2,8])\n",
        "returned_value = sum_dist(LL1, dist)\n",
        "print(f'Sum of Nodes: {returned_value}') #This should print Sum of Nodes: 4\n",
        "unittest.output_test(returned_value, 4)\n",
        "print()"
      ]
    }
  ],
  "metadata": {
    "colab": {
      "provenance": [],
      "include_colab_link": true
    },
    "kernelspec": {
      "display_name": "base",
      "language": "python",
      "name": "python3"
    },
    "language_info": {
      "codemirror_mode": {
        "name": "ipython",
        "version": 3
      },
      "file_extension": ".py",
      "mimetype": "text/x-python",
      "name": "python",
      "nbconvert_exporter": "python",
      "pygments_lexer": "ipython3",
      "version": "3.12.7"
    }
  },
  "nbformat": 4,
  "nbformat_minor": 0
}